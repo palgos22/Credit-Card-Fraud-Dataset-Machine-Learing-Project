{
 "cells": [
  {
   "cell_type": "markdown",
   "id": "784ee48c",
   "metadata": {},
   "source": [
    "<center><b><span style=font-size:30px><font color='MediumBlue'><u>Project</u></font></span></b></center><br>\n",
    "<center><b><span style=font-size:30px><font color='MediumBlue'><u> Credit Card Fraud Dataset</u></font></span></b></center><br>"
   ]
  },
  {
   "cell_type": "code",
   "execution_count": 1,
   "id": "703ad050",
   "metadata": {},
   "outputs": [],
   "source": [
    "# Importing Required Library\n",
    "\n",
    "import numpy as np\n",
    "import pandas as pd\n",
    "import seaborn as sns\n",
    "import matplotlib.pyplot as plt\n",
    "import warnings\n",
    "warnings.filterwarnings('ignore')"
   ]
  },
  {
   "cell_type": "code",
   "execution_count": 2,
   "id": "03d59622",
   "metadata": {},
   "outputs": [],
   "source": [
    "# Loading the dataset 'Credit Card Fraud'\n",
    "\n",
    "df = pd.read_csv('creditcard.csv')"
   ]
  },
  {
   "cell_type": "code",
   "execution_count": 3,
   "id": "78180a17",
   "metadata": {},
   "outputs": [
    {
     "data": {
      "text/html": [
       "<div>\n",
       "<style scoped>\n",
       "    .dataframe tbody tr th:only-of-type {\n",
       "        vertical-align: middle;\n",
       "    }\n",
       "\n",
       "    .dataframe tbody tr th {\n",
       "        vertical-align: top;\n",
       "    }\n",
       "\n",
       "    .dataframe thead th {\n",
       "        text-align: right;\n",
       "    }\n",
       "</style>\n",
       "<table border=\"1\" class=\"dataframe\">\n",
       "  <thead>\n",
       "    <tr style=\"text-align: right;\">\n",
       "      <th></th>\n",
       "      <th>Time</th>\n",
       "      <th>V1</th>\n",
       "      <th>V2</th>\n",
       "      <th>V3</th>\n",
       "      <th>V4</th>\n",
       "      <th>V5</th>\n",
       "      <th>V6</th>\n",
       "      <th>V7</th>\n",
       "      <th>V8</th>\n",
       "      <th>V9</th>\n",
       "      <th>...</th>\n",
       "      <th>V21</th>\n",
       "      <th>V22</th>\n",
       "      <th>V23</th>\n",
       "      <th>V24</th>\n",
       "      <th>V25</th>\n",
       "      <th>V26</th>\n",
       "      <th>V27</th>\n",
       "      <th>V28</th>\n",
       "      <th>Amount</th>\n",
       "      <th>Class</th>\n",
       "    </tr>\n",
       "  </thead>\n",
       "  <tbody>\n",
       "    <tr>\n",
       "      <th>0</th>\n",
       "      <td>0.0</td>\n",
       "      <td>-1.359807</td>\n",
       "      <td>-0.072781</td>\n",
       "      <td>2.536347</td>\n",
       "      <td>1.378155</td>\n",
       "      <td>-0.338321</td>\n",
       "      <td>0.462388</td>\n",
       "      <td>0.239599</td>\n",
       "      <td>0.098698</td>\n",
       "      <td>0.363787</td>\n",
       "      <td>...</td>\n",
       "      <td>-0.018307</td>\n",
       "      <td>0.277838</td>\n",
       "      <td>-0.110474</td>\n",
       "      <td>0.066928</td>\n",
       "      <td>0.128539</td>\n",
       "      <td>-0.189115</td>\n",
       "      <td>0.133558</td>\n",
       "      <td>-0.021053</td>\n",
       "      <td>149.62</td>\n",
       "      <td>0</td>\n",
       "    </tr>\n",
       "    <tr>\n",
       "      <th>1</th>\n",
       "      <td>0.0</td>\n",
       "      <td>1.191857</td>\n",
       "      <td>0.266151</td>\n",
       "      <td>0.166480</td>\n",
       "      <td>0.448154</td>\n",
       "      <td>0.060018</td>\n",
       "      <td>-0.082361</td>\n",
       "      <td>-0.078803</td>\n",
       "      <td>0.085102</td>\n",
       "      <td>-0.255425</td>\n",
       "      <td>...</td>\n",
       "      <td>-0.225775</td>\n",
       "      <td>-0.638672</td>\n",
       "      <td>0.101288</td>\n",
       "      <td>-0.339846</td>\n",
       "      <td>0.167170</td>\n",
       "      <td>0.125895</td>\n",
       "      <td>-0.008983</td>\n",
       "      <td>0.014724</td>\n",
       "      <td>2.69</td>\n",
       "      <td>0</td>\n",
       "    </tr>\n",
       "    <tr>\n",
       "      <th>2</th>\n",
       "      <td>1.0</td>\n",
       "      <td>-1.358354</td>\n",
       "      <td>-1.340163</td>\n",
       "      <td>1.773209</td>\n",
       "      <td>0.379780</td>\n",
       "      <td>-0.503198</td>\n",
       "      <td>1.800499</td>\n",
       "      <td>0.791461</td>\n",
       "      <td>0.247676</td>\n",
       "      <td>-1.514654</td>\n",
       "      <td>...</td>\n",
       "      <td>0.247998</td>\n",
       "      <td>0.771679</td>\n",
       "      <td>0.909412</td>\n",
       "      <td>-0.689281</td>\n",
       "      <td>-0.327642</td>\n",
       "      <td>-0.139097</td>\n",
       "      <td>-0.055353</td>\n",
       "      <td>-0.059752</td>\n",
       "      <td>378.66</td>\n",
       "      <td>0</td>\n",
       "    </tr>\n",
       "    <tr>\n",
       "      <th>3</th>\n",
       "      <td>1.0</td>\n",
       "      <td>-0.966272</td>\n",
       "      <td>-0.185226</td>\n",
       "      <td>1.792993</td>\n",
       "      <td>-0.863291</td>\n",
       "      <td>-0.010309</td>\n",
       "      <td>1.247203</td>\n",
       "      <td>0.237609</td>\n",
       "      <td>0.377436</td>\n",
       "      <td>-1.387024</td>\n",
       "      <td>...</td>\n",
       "      <td>-0.108300</td>\n",
       "      <td>0.005274</td>\n",
       "      <td>-0.190321</td>\n",
       "      <td>-1.175575</td>\n",
       "      <td>0.647376</td>\n",
       "      <td>-0.221929</td>\n",
       "      <td>0.062723</td>\n",
       "      <td>0.061458</td>\n",
       "      <td>123.50</td>\n",
       "      <td>0</td>\n",
       "    </tr>\n",
       "    <tr>\n",
       "      <th>4</th>\n",
       "      <td>2.0</td>\n",
       "      <td>-1.158233</td>\n",
       "      <td>0.877737</td>\n",
       "      <td>1.548718</td>\n",
       "      <td>0.403034</td>\n",
       "      <td>-0.407193</td>\n",
       "      <td>0.095921</td>\n",
       "      <td>0.592941</td>\n",
       "      <td>-0.270533</td>\n",
       "      <td>0.817739</td>\n",
       "      <td>...</td>\n",
       "      <td>-0.009431</td>\n",
       "      <td>0.798278</td>\n",
       "      <td>-0.137458</td>\n",
       "      <td>0.141267</td>\n",
       "      <td>-0.206010</td>\n",
       "      <td>0.502292</td>\n",
       "      <td>0.219422</td>\n",
       "      <td>0.215153</td>\n",
       "      <td>69.99</td>\n",
       "      <td>0</td>\n",
       "    </tr>\n",
       "  </tbody>\n",
       "</table>\n",
       "<p>5 rows × 31 columns</p>\n",
       "</div>"
      ],
      "text/plain": [
       "   Time        V1        V2        V3        V4        V5        V6        V7  \\\n",
       "0   0.0 -1.359807 -0.072781  2.536347  1.378155 -0.338321  0.462388  0.239599   \n",
       "1   0.0  1.191857  0.266151  0.166480  0.448154  0.060018 -0.082361 -0.078803   \n",
       "2   1.0 -1.358354 -1.340163  1.773209  0.379780 -0.503198  1.800499  0.791461   \n",
       "3   1.0 -0.966272 -0.185226  1.792993 -0.863291 -0.010309  1.247203  0.237609   \n",
       "4   2.0 -1.158233  0.877737  1.548718  0.403034 -0.407193  0.095921  0.592941   \n",
       "\n",
       "         V8        V9  ...       V21       V22       V23       V24       V25  \\\n",
       "0  0.098698  0.363787  ... -0.018307  0.277838 -0.110474  0.066928  0.128539   \n",
       "1  0.085102 -0.255425  ... -0.225775 -0.638672  0.101288 -0.339846  0.167170   \n",
       "2  0.247676 -1.514654  ...  0.247998  0.771679  0.909412 -0.689281 -0.327642   \n",
       "3  0.377436 -1.387024  ... -0.108300  0.005274 -0.190321 -1.175575  0.647376   \n",
       "4 -0.270533  0.817739  ... -0.009431  0.798278 -0.137458  0.141267 -0.206010   \n",
       "\n",
       "        V26       V27       V28  Amount  Class  \n",
       "0 -0.189115  0.133558 -0.021053  149.62      0  \n",
       "1  0.125895 -0.008983  0.014724    2.69      0  \n",
       "2 -0.139097 -0.055353 -0.059752  378.66      0  \n",
       "3 -0.221929  0.062723  0.061458  123.50      0  \n",
       "4  0.502292  0.219422  0.215153   69.99      0  \n",
       "\n",
       "[5 rows x 31 columns]"
      ]
     },
     "execution_count": 3,
     "metadata": {},
     "output_type": "execute_result"
    }
   ],
   "source": [
    "# Displaying the first 5 values\n",
    "\n",
    "df.head()"
   ]
  },
  {
   "cell_type": "code",
   "execution_count": 4,
   "id": "62c88554",
   "metadata": {},
   "outputs": [
    {
     "data": {
      "text/plain": [
       "(284807, 31)"
      ]
     },
     "execution_count": 4,
     "metadata": {},
     "output_type": "execute_result"
    }
   ],
   "source": [
    "# Checking size of creditcard Dataset\n",
    " \n",
    "df.shape"
   ]
  },
  {
   "cell_type": "code",
   "execution_count": 5,
   "id": "6b7bf9ca",
   "metadata": {
    "scrolled": false
   },
   "outputs": [
    {
     "data": {
      "text/plain": [
       "Time      0\n",
       "V1        0\n",
       "V2        0\n",
       "V3        0\n",
       "V4        0\n",
       "V5        0\n",
       "V6        0\n",
       "V7        0\n",
       "V8        0\n",
       "V9        0\n",
       "V10       0\n",
       "V11       0\n",
       "V12       0\n",
       "V13       0\n",
       "V14       0\n",
       "V15       0\n",
       "V16       0\n",
       "V17       0\n",
       "V18       0\n",
       "V19       0\n",
       "V20       0\n",
       "V21       0\n",
       "V22       0\n",
       "V23       0\n",
       "V24       0\n",
       "V25       0\n",
       "V26       0\n",
       "V27       0\n",
       "V28       0\n",
       "Amount    0\n",
       "Class     0\n",
       "dtype: int64"
      ]
     },
     "execution_count": 5,
     "metadata": {},
     "output_type": "execute_result"
    }
   ],
   "source": [
    "# Checking if any null value present or not\n",
    "\n",
    "df.isnull().sum()"
   ]
  },
  {
   "cell_type": "code",
   "execution_count": 46,
   "id": "26a03348",
   "metadata": {
    "scrolled": false
   },
   "outputs": [
    {
     "name": "stdout",
     "output_type": "stream",
     "text": [
      "<class 'pandas.core.frame.DataFrame'>\n",
      "RangeIndex: 284807 entries, 0 to 284806\n",
      "Data columns (total 31 columns):\n",
      " #   Column  Non-Null Count   Dtype  \n",
      "---  ------  --------------   -----  \n",
      " 0   Time    284807 non-null  float64\n",
      " 1   V1      284807 non-null  float64\n",
      " 2   V2      284807 non-null  float64\n",
      " 3   V3      284807 non-null  float64\n",
      " 4   V4      284807 non-null  float64\n",
      " 5   V5      284807 non-null  float64\n",
      " 6   V6      284807 non-null  float64\n",
      " 7   V7      284807 non-null  float64\n",
      " 8   V8      284807 non-null  float64\n",
      " 9   V9      284807 non-null  float64\n",
      " 10  V10     284807 non-null  float64\n",
      " 11  V11     284807 non-null  float64\n",
      " 12  V12     284807 non-null  float64\n",
      " 13  V13     284807 non-null  float64\n",
      " 14  V14     284807 non-null  float64\n",
      " 15  V15     284807 non-null  float64\n",
      " 16  V16     284807 non-null  float64\n",
      " 17  V17     284807 non-null  float64\n",
      " 18  V18     284807 non-null  float64\n",
      " 19  V19     284807 non-null  float64\n",
      " 20  V20     284807 non-null  float64\n",
      " 21  V21     284807 non-null  float64\n",
      " 22  V22     284807 non-null  float64\n",
      " 23  V23     284807 non-null  float64\n",
      " 24  V24     284807 non-null  float64\n",
      " 25  V25     284807 non-null  float64\n",
      " 26  V26     284807 non-null  float64\n",
      " 27  V27     284807 non-null  float64\n",
      " 28  V28     284807 non-null  float64\n",
      " 29  Amount  284807 non-null  float64\n",
      " 30  Class   284807 non-null  int64  \n",
      "dtypes: float64(30), int64(1)\n",
      "memory usage: 67.4 MB\n"
     ]
    }
   ],
   "source": [
    "# Checking columns data types\n",
    "\n",
    "df.info()"
   ]
  },
  {
   "cell_type": "markdown",
   "id": "519b0239",
   "metadata": {},
   "source": [
    "<b><span style=font-size:20px>- <font color='LimeGreen'>Conclusion.</font></span></b>\n",
    "- As there are no Null Values and all the Column Data Types are Numeric now we will perform different Machine Learning Techniques."
   ]
  },
  {
   "cell_type": "markdown",
   "id": "d1c88260",
   "metadata": {},
   "source": [
    "<b><span style=font-size:25px><font color='Red'>------------------------------------------------------------------------------------</font></span></b>"
   ]
  },
  {
   "cell_type": "markdown",
   "id": "5e5defab",
   "metadata": {},
   "source": [
    "<b><span style=font-size:20px>- <font color='MediumBlue'>Importing Libraries</font></span></b>"
   ]
  },
  {
   "cell_type": "code",
   "execution_count": 7,
   "id": "c7cf3fea",
   "metadata": {},
   "outputs": [],
   "source": [
    "from sklearn.model_selection import train_test_split\n",
    "from sklearn.preprocessing import StandardScaler\n",
    "from sklearn.metrics import classification_report,confusion_matrix"
   ]
  },
  {
   "cell_type": "code",
   "execution_count": 47,
   "id": "24250783",
   "metadata": {},
   "outputs": [
    {
     "data": {
      "text/plain": [
       "Index(['Time', 'V1', 'V2', 'V3', 'V4', 'V5', 'V6', 'V7', 'V8', 'V9', 'V10',\n",
       "       'V11', 'V12', 'V13', 'V14', 'V15', 'V16', 'V17', 'V18', 'V19', 'V20',\n",
       "       'V21', 'V22', 'V23', 'V24', 'V25', 'V26', 'V27', 'V28', 'Amount',\n",
       "       'Class'],\n",
       "      dtype='object')"
      ]
     },
     "execution_count": 47,
     "metadata": {},
     "output_type": "execute_result"
    }
   ],
   "source": [
    "# To check the columns \n",
    "\n",
    "df.columns"
   ]
  },
  {
   "cell_type": "code",
   "execution_count": 8,
   "id": "9ebf9ac9",
   "metadata": {},
   "outputs": [],
   "source": [
    "# Separating Independent and Dependent variable to Train and Test the Dataset\n",
    "\n",
    "X = df.drop('Class',axis=1)\n",
    "Y = df['Class']"
   ]
  },
  {
   "cell_type": "code",
   "execution_count": 9,
   "id": "d1a2b779",
   "metadata": {},
   "outputs": [],
   "source": [
    "X_train,X_test,Y_train,Y_test = train_test_split(X,Y,test_size=0.30,random_state=1)"
   ]
  },
  {
   "cell_type": "markdown",
   "id": "101875df",
   "metadata": {},
   "source": [
    "<b><span style=font-size:25px><font color='Red'>------------------------------------------------------------------------------------</font></span></b>"
   ]
  },
  {
   "cell_type": "markdown",
   "id": "85ddcdc0",
   "metadata": {},
   "source": [
    "<b><span style=font-size:20px>- <font color='MediumBlue'>Appling StandardScaler</font></span></b>"
   ]
  },
  {
   "cell_type": "code",
   "execution_count": 10,
   "id": "6c1c391c",
   "metadata": {},
   "outputs": [],
   "source": [
    "ss = StandardScaler()\n",
    "X_train = ss.fit_transform(X_train)\n",
    "X_test = ss.transform(X_test)"
   ]
  },
  {
   "cell_type": "code",
   "execution_count": 11,
   "id": "56fb1120",
   "metadata": {},
   "outputs": [],
   "source": [
    "# User Define function:\n",
    "\n",
    "def create_model(model):\n",
    "    model.fit(X_train,Y_train) # We Train the model\n",
    "    Y_pred = model.predict(X_test) # Testing model\n",
    "    print(classification_report(Y_test,Y_pred))\n",
    "    print(confusion_matrix(Y_test,Y_pred))"
   ]
  },
  {
   "cell_type": "markdown",
   "id": "8f71ad95",
   "metadata": {},
   "source": [
    "<b><span style=font-size:25px><font color='Red'>------------------------------------------------------------------------------------</font></span></b>"
   ]
  },
  {
   "cell_type": "markdown",
   "id": "1128124f",
   "metadata": {},
   "source": [
    "<b><span style=font-size:20px>- <font color='MediumBlue'>Using LogisticRegression</font></span></b>"
   ]
  },
  {
   "cell_type": "code",
   "execution_count": 12,
   "id": "09803220",
   "metadata": {
    "scrolled": false
   },
   "outputs": [
    {
     "name": "stdout",
     "output_type": "stream",
     "text": [
      "              precision    recall  f1-score   support\n",
      "\n",
      "           0       1.00      1.00      1.00     85308\n",
      "           1       0.84      0.58      0.68       135\n",
      "\n",
      "    accuracy                           1.00     85443\n",
      "   macro avg       0.92      0.79      0.84     85443\n",
      "weighted avg       1.00      1.00      1.00     85443\n",
      "\n",
      "[[85293    15]\n",
      " [   57    78]]\n"
     ]
    }
   ],
   "source": [
    "from sklearn.linear_model import LogisticRegression\n",
    "\n",
    "lr = LogisticRegression(random_state=1)\n",
    "lr = create_model(lr)"
   ]
  },
  {
   "cell_type": "markdown",
   "id": "658ad064",
   "metadata": {},
   "source": [
    "<b><span style=font-size:20px>- <font color='LimeGreen'>Conclusion.</font></span></b>\n",
    "- From the above Logistic Regression we got .58 Prediction i.e. 58% which is too Low"
   ]
  },
  {
   "cell_type": "markdown",
   "id": "b38061b6",
   "metadata": {},
   "source": [
    "<b><span style=font-size:25px><font color='Red'>------------------------------------------------------------------------------------</font></span></b>"
   ]
  },
  {
   "cell_type": "markdown",
   "id": "298be479",
   "metadata": {},
   "source": [
    "<b><span style=font-size:20px>- <font color='OrangeRed'>Here as we can see the data is not equaly distributed.</font></span></b>"
   ]
  },
  {
   "cell_type": "code",
   "execution_count": 13,
   "id": "7cf68235",
   "metadata": {
    "scrolled": true
   },
   "outputs": [
    {
     "data": {
      "text/plain": [
       "0    284315\n",
       "1       492\n",
       "Name: Class, dtype: int64"
      ]
     },
     "execution_count": 13,
     "metadata": {},
     "output_type": "execute_result"
    }
   ],
   "source": [
    "df['Class'].value_counts()"
   ]
  },
  {
   "cell_type": "code",
   "execution_count": 14,
   "id": "dac2a0a7",
   "metadata": {
    "scrolled": true
   },
   "outputs": [
    {
     "data": {
      "image/png": "[encoded data removed]",
      "text/plain": [
       "<Figure size 720x360 with 1 Axes>"
      ]
     },
     "metadata": {
      "needs_background": "light"
     },
     "output_type": "display_data"
    }
   ],
   "source": [
    "plt.figure(figsize=(10,5))\n",
    "sns.countplot(data=df,x='Class')\n",
    "f = df['Class'].value_counts()\n",
    "plt.yticks(f)\n",
    "plt.show()"
   ]
  },
  {
   "cell_type": "markdown",
   "id": "aa4b3237",
   "metadata": {},
   "source": [
    "<b><span style=font-size:20px>- <font color='LimeGreen'>Conclusion.</font></span></b>\n",
    "- From the above value_counts of 'Class' Column and from the Graph\n",
    "\n",
    "\n",
    "- There are about: <b>'284315' Transactions out of which '492' were Fraud</b>\n",
    "\n",
    "\n",
    "- Which means the Data is not properly distributed "
   ]
  },
  {
   "cell_type": "markdown",
   "id": "9f911869",
   "metadata": {},
   "source": [
    "<b><span style=font-size:25px><font color='Red'>------------------------------------------------------------------------------------</font></span></b>"
   ]
  },
  {
   "cell_type": "markdown",
   "id": "5eeecc2b",
   "metadata": {},
   "source": [
    "<b><span style=font-size:20px>- <font color='OrangeRed'>Appling ' RandomOverSampler ' to make data equal.</font></span></b>"
   ]
  },
  {
   "cell_type": "code",
   "execution_count": 15,
   "id": "ca0a0bb1",
   "metadata": {},
   "outputs": [],
   "source": [
    "# Apply random over sampling : inbuild class\n",
    "from imblearn.over_sampling import RandomOverSampler"
   ]
  },
  {
   "cell_type": "code",
   "execution_count": 16,
   "id": "6a8ea760",
   "metadata": {},
   "outputs": [],
   "source": [
    "ros = RandomOverSampler(random_state=1)"
   ]
  },
  {
   "cell_type": "code",
   "execution_count": 17,
   "id": "3e49698a",
   "metadata": {},
   "outputs": [
    {
     "data": {
      "text/plain": [
       "0    199007\n",
       "1       357\n",
       "Name: Class, dtype: int64"
      ]
     },
     "execution_count": 17,
     "metadata": {},
     "output_type": "execute_result"
    }
   ],
   "source": [
    "# Before apply RandomOverSampler on training data\n",
    "Y_train.value_counts()"
   ]
  },
  {
   "cell_type": "code",
   "execution_count": 18,
   "id": "7ef5dfe4",
   "metadata": {},
   "outputs": [],
   "source": [
    "# Applied OverSampler on Training data (70%)\n",
    "X_train_ros,Y_train_ros = ros.fit_resample(X_train,Y_train)"
   ]
  },
  {
   "cell_type": "code",
   "execution_count": 19,
   "id": "f999cc9a",
   "metadata": {},
   "outputs": [
    {
     "data": {
      "text/plain": [
       "0    199007\n",
       "1    199007\n",
       "Name: Class, dtype: int64"
      ]
     },
     "execution_count": 19,
     "metadata": {},
     "output_type": "execute_result"
    }
   ],
   "source": [
    "# Check after apply RandomOverSampler\n",
    "Y_train_ros.value_counts()"
   ]
  },
  {
   "cell_type": "code",
   "execution_count": 20,
   "id": "d262170c",
   "metadata": {},
   "outputs": [
    {
     "data": {
      "text/plain": [
       "0    85308\n",
       "1      135\n",
       "Name: Class, dtype: int64"
      ]
     },
     "execution_count": 20,
     "metadata": {},
     "output_type": "execute_result"
    }
   ],
   "source": [
    "# Before apply RandomOverSampler on testing data\n",
    "Y_test.value_counts()"
   ]
  },
  {
   "cell_type": "code",
   "execution_count": 21,
   "id": "dc3da97a",
   "metadata": {},
   "outputs": [],
   "source": [
    "# Also apply RandomOverSampler on tesing data (30%)\n",
    "X_test_ros,Y_test_ros = ros.fit_resample(X_test,Y_test)"
   ]
  },
  {
   "cell_type": "code",
   "execution_count": 22,
   "id": "d3d3ca8e",
   "metadata": {
    "scrolled": false
   },
   "outputs": [
    {
     "data": {
      "text/plain": [
       "0    85308\n",
       "1    85308\n",
       "Name: Class, dtype: int64"
      ]
     },
     "execution_count": 22,
     "metadata": {},
     "output_type": "execute_result"
    }
   ],
   "source": [
    "Y_test_ros.value_counts()"
   ]
  },
  {
   "cell_type": "markdown",
   "id": "25fd5e8b",
   "metadata": {},
   "source": [
    "<b><span style=font-size:25px><font color='Red'>------------------------------------------------------------------------------------</font></span></b>"
   ]
  },
  {
   "cell_type": "code",
   "execution_count": 23,
   "id": "bf4b3f6f",
   "metadata": {},
   "outputs": [],
   "source": [
    "# User Define function After Equalizing Dataset:\n",
    "\n",
    "def create_modele(model):\n",
    "    model.fit(X_train_ros,Y_train_ros) # We Train the model\n",
    "    Y_pred = model.predict(X_test_ros) # Testing Model\n",
    "    print(classification_report(Y_test_ros,Y_pred))\n",
    "    print(confusion_matrix(Y_test_ros,Y_pred))"
   ]
  },
  {
   "cell_type": "markdown",
   "id": "5e9f2381",
   "metadata": {},
   "source": [
    "<b><span style=font-size:20px>1. <font color='MediumBlue'>Using LogisticRegression after Equalizing Data</font></span></b>"
   ]
  },
  {
   "cell_type": "code",
   "execution_count": 24,
   "id": "dd9cb7ff",
   "metadata": {
    "scrolled": false
   },
   "outputs": [
    {
     "name": "stdout",
     "output_type": "stream",
     "text": [
      "              precision    recall  f1-score   support\n",
      "\n",
      "           0       0.90      0.98      0.94     85308\n",
      "           1       0.98      0.90      0.94     85308\n",
      "\n",
      "    accuracy                           0.94    170616\n",
      "   macro avg       0.94      0.94      0.94    170616\n",
      "weighted avg       0.94      0.94      0.94    170616\n",
      "\n",
      "[[83724  1584]\n",
      " [ 8874 76434]]\n"
     ]
    }
   ],
   "source": [
    "lr1 = LogisticRegression(random_state=1)\n",
    "\n",
    "lr1 = create_modele(lr1)"
   ]
  },
  {
   "cell_type": "markdown",
   "id": "fc9a1bfd",
   "metadata": {},
   "source": [
    "<b><span style=font-size:20px>- <font color='LimeGreen'>Conclusion.</font></span></b>\n",
    "- <b>Before equalizing</b> the data <b>Logistic Regression score was 58%</b> which was too Low.\n",
    "\n",
    "\n",
    "- <b>After equalizing</b> the data <b>Logistic Regression score got to 90%</b> which is great.\n",
    "\n",
    "\n",
    "- Still we will apply to all the methods to see if we get more accurate results."
   ]
  },
  {
   "cell_type": "markdown",
   "id": "571c670e",
   "metadata": {},
   "source": [
    "<b><span style=font-size:25px><font color='Red'>------------------------------------------------------------------------------------</font></span></b>"
   ]
  },
  {
   "cell_type": "markdown",
   "id": "637d8f8a",
   "metadata": {},
   "source": [
    "<b><span style=font-size:20px>- <font color='MediumBlue'>Using DecisionTree</font></span></b>"
   ]
  },
  {
   "cell_type": "markdown",
   "id": "09210a20",
   "metadata": {},
   "source": [
    "<b><span style=font-size:20px>2. <font color='OrangeRed'>Decision Tree Using Gini Index</font></span></b>"
   ]
  },
  {
   "cell_type": "code",
   "execution_count": 25,
   "id": "b42a66da",
   "metadata": {},
   "outputs": [
    {
     "name": "stdout",
     "output_type": "stream",
     "text": [
      "              precision    recall  f1-score   support\n",
      "\n",
      "           0       0.74      1.00      0.85     85308\n",
      "           1       1.00      0.65      0.79     85308\n",
      "\n",
      "    accuracy                           0.83    170616\n",
      "   macro avg       0.87      0.83      0.82    170616\n",
      "weighted avg       0.87      0.83      0.82    170616\n",
      "\n",
      "[[85275    33]\n",
      " [29819 55489]]\n"
     ]
    }
   ],
   "source": [
    "from sklearn.tree import DecisionTreeClassifier\n",
    "\n",
    "dt = DecisionTreeClassifier(random_state=1)\n",
    "dt = create_modele(dt)"
   ]
  },
  {
   "cell_type": "markdown",
   "id": "0838f9cc",
   "metadata": {},
   "source": [
    "<b><span style=font-size:20px>2a. <font color='OrangeRed'>Decision Tree max_depth</font></span></b>"
   ]
  },
  {
   "cell_type": "code",
   "execution_count": 26,
   "id": "62e32dc6",
   "metadata": {
    "scrolled": true
   },
   "outputs": [
    {
     "name": "stdout",
     "output_type": "stream",
     "text": [
      "              precision    recall  f1-score   support\n",
      "\n",
      "           0       0.87      0.98      0.92     85308\n",
      "           1       0.98      0.85      0.91     85308\n",
      "\n",
      "    accuracy                           0.92    170616\n",
      "   macro avg       0.92      0.92      0.92    170616\n",
      "weighted avg       0.92      0.92      0.92    170616\n",
      "\n",
      "[[83524  1784]\n",
      " [12622 72686]]\n"
     ]
    }
   ],
   "source": [
    "dt1 = DecisionTreeClassifier(random_state=1,max_depth=3)\n",
    "\n",
    "dt1 = create_modele(dt1)"
   ]
  },
  {
   "cell_type": "markdown",
   "id": "f803f556",
   "metadata": {},
   "source": [
    "<b><span style=font-size:20px>2b. <font color='OrangeRed'>Decision Tree min_samples_leaf</font></span></b>"
   ]
  },
  {
   "cell_type": "code",
   "execution_count": 27,
   "id": "04f9eb95",
   "metadata": {
    "scrolled": true
   },
   "outputs": [
    {
     "name": "stdout",
     "output_type": "stream",
     "text": [
      "              precision    recall  f1-score   support\n",
      "\n",
      "           0       0.85      1.00      0.92     85308\n",
      "           1       0.99      0.83      0.90     85308\n",
      "\n",
      "    accuracy                           0.91    170616\n",
      "   macro avg       0.92      0.91      0.91    170616\n",
      "weighted avg       0.92      0.91      0.91    170616\n",
      "\n",
      "[[84918   390]\n",
      " [14597 70711]]\n"
     ]
    }
   ],
   "source": [
    "dt2 = DecisionTreeClassifier(random_state=1,min_samples_leaf=100)\n",
    "\n",
    "dt2 = create_modele(dt2)"
   ]
  },
  {
   "cell_type": "markdown",
   "id": "fcbcd089",
   "metadata": {},
   "source": [
    "<b><span style=font-size:25px><font color='Red'>------------------------------------------------------------------------------------</font></span></b>"
   ]
  },
  {
   "cell_type": "markdown",
   "id": "8e13c07d",
   "metadata": {},
   "source": [
    "<b><span style=font-size:20px>3. <font color='OrangeRed'>Decision Tree Using Entropy</font></span></b>"
   ]
  },
  {
   "cell_type": "code",
   "execution_count": 28,
   "id": "d083d8a0",
   "metadata": {},
   "outputs": [
    {
     "name": "stdout",
     "output_type": "stream",
     "text": [
      "              precision    recall  f1-score   support\n",
      "\n",
      "           0       0.77      1.00      0.87     85308\n",
      "           1       1.00      0.70      0.82     85308\n",
      "\n",
      "    accuracy                           0.85    170616\n",
      "   macro avg       0.88      0.85      0.85    170616\n",
      "weighted avg       0.88      0.85      0.85    170616\n",
      "\n",
      "[[85272    36]\n",
      " [25398 59910]]\n"
     ]
    }
   ],
   "source": [
    "dte = DecisionTreeClassifier(random_state=1,criterion = 'entropy')\n",
    "\n",
    "dte = create_modele(dte)"
   ]
  },
  {
   "cell_type": "markdown",
   "id": "810ebf3b",
   "metadata": {},
   "source": [
    "<b><span style=font-size:20px>3a. <font color='OrangeRed'>Decision Tree max_depth</font></span></b>"
   ]
  },
  {
   "cell_type": "code",
   "execution_count": 29,
   "id": "9033c2fd",
   "metadata": {},
   "outputs": [
    {
     "name": "stdout",
     "output_type": "stream",
     "text": [
      "              precision    recall  f1-score   support\n",
      "\n",
      "           0       0.87      0.97      0.92     85308\n",
      "           1       0.97      0.85      0.91     85308\n",
      "\n",
      "    accuracy                           0.91    170616\n",
      "   macro avg       0.92      0.91      0.91    170616\n",
      "weighted avg       0.92      0.91      0.91    170616\n",
      "\n",
      "[[82844  2464]\n",
      " [12542 72766]]\n"
     ]
    }
   ],
   "source": [
    "dte1 = DecisionTreeClassifier(random_state=1,criterion='entropy',max_depth=3)\n",
    "\n",
    "dte1 = create_modele(dte1)"
   ]
  },
  {
   "cell_type": "markdown",
   "id": "eab05ab6",
   "metadata": {},
   "source": [
    "<b><span style=font-size:20px>3b. <font color='OrangeRed'>Decision Tree min_samples_leaf</font></span></b>"
   ]
  },
  {
   "cell_type": "code",
   "execution_count": 30,
   "id": "dffe88cc",
   "metadata": {},
   "outputs": [
    {
     "name": "stdout",
     "output_type": "stream",
     "text": [
      "              precision    recall  f1-score   support\n",
      "\n",
      "           0       0.83      1.00      0.91     85308\n",
      "           1       1.00      0.80      0.89     85308\n",
      "\n",
      "    accuracy                           0.90    170616\n",
      "   macro avg       0.92      0.90      0.90    170616\n",
      "weighted avg       0.92      0.90      0.90    170616\n",
      "\n",
      "[[85110   198]\n",
      " [17001 68307]]\n"
     ]
    }
   ],
   "source": [
    "dte2 = DecisionTreeClassifier(random_state=1,criterion='entropy',min_samples_leaf=50)\n",
    "\n",
    "dte2 = create_modele(dte2)"
   ]
  },
  {
   "cell_type": "markdown",
   "id": "ac007e4b",
   "metadata": {},
   "source": [
    "<b><span style=font-size:25px><font color='Red'>------------------------------------------------------------------------------------</font></span></b>"
   ]
  },
  {
   "cell_type": "markdown",
   "id": "680ca486",
   "metadata": {},
   "source": [
    "<b><span style=font-size:20px>- <font color='MediumBlue'>Using RandomForestClassifier</font></span></b>"
   ]
  },
  {
   "cell_type": "code",
   "execution_count": 31,
   "id": "c6d20f41",
   "metadata": {},
   "outputs": [],
   "source": [
    "from sklearn.ensemble import RandomForestClassifier"
   ]
  },
  {
   "cell_type": "markdown",
   "id": "d72cee5a",
   "metadata": {},
   "source": [
    "<b><span style=font-size:20px>4. <font color='OrangeRed'>RandomForestClassifier using Gini Index</font></span></b>"
   ]
  },
  {
   "cell_type": "code",
   "execution_count": 32,
   "id": "1de4e769",
   "metadata": {
    "scrolled": true
   },
   "outputs": [
    {
     "name": "stdout",
     "output_type": "stream",
     "text": [
      "              precision    recall  f1-score   support\n",
      "\n",
      "           0       0.82      1.00      0.90     85308\n",
      "           1       1.00      0.78      0.87     85308\n",
      "\n",
      "    accuracy                           0.89    170616\n",
      "   macro avg       0.91      0.89      0.89    170616\n",
      "weighted avg       0.91      0.89      0.89    170616\n",
      "\n",
      "[[85300     8]\n",
      " [19055 66253]]\n"
     ]
    }
   ],
   "source": [
    "rfc = RandomForestClassifier(random_state=1,n_estimators=100,max_features=7)\n",
    "\n",
    "rfc = create_modele(rfc)"
   ]
  },
  {
   "cell_type": "markdown",
   "id": "4bb0bd1d",
   "metadata": {},
   "source": [
    "<b><span style=font-size:25px><font color='Red'>------------------------------------------------------------------------------------</font></span></b>"
   ]
  },
  {
   "cell_type": "markdown",
   "id": "a3b3fb55",
   "metadata": {},
   "source": [
    "<b><span style=font-size:20px>5. <font color='OrangeRed'>RandomForestClassifier using Entropy</font></span></b>"
   ]
  },
  {
   "cell_type": "code",
   "execution_count": 33,
   "id": "582977b6",
   "metadata": {},
   "outputs": [
    {
     "name": "stdout",
     "output_type": "stream",
     "text": [
      "              precision    recall  f1-score   support\n",
      "\n",
      "           0       0.81      1.00      0.90     85308\n",
      "           1       1.00      0.77      0.87     85308\n",
      "\n",
      "    accuracy                           0.88    170616\n",
      "   macro avg       0.91      0.88      0.88    170616\n",
      "weighted avg       0.91      0.88      0.88    170616\n",
      "\n",
      "[[85299     9]\n",
      " [19691 65617]]\n"
     ]
    }
   ],
   "source": [
    "rfc2 = RandomForestClassifier(criterion='entropy',random_state=1,n_estimators=100,max_features=7)\n",
    "\n",
    "rfc2 = create_modele(rfc2)"
   ]
  },
  {
   "cell_type": "markdown",
   "id": "19b88198",
   "metadata": {},
   "source": [
    "<b><span style=font-size:25px><font color='Red'>------------------------------------------------------------------------------------</font></span></b>"
   ]
  },
  {
   "cell_type": "markdown",
   "id": "eeda7dfa",
   "metadata": {},
   "source": [
    "<b><span style=font-size:20px>- <font color='MediumBlue'>Using BoostingTechnics</font></span></b>"
   ]
  },
  {
   "cell_type": "markdown",
   "id": "40495cc8",
   "metadata": {},
   "source": [
    "<b><span style=font-size:20px>6. <font color='OrangeRed'>ADA Boosting ( Adaptor Boosting )</font></span></b>"
   ]
  },
  {
   "cell_type": "code",
   "execution_count": 34,
   "id": "60d9fef6",
   "metadata": {},
   "outputs": [],
   "source": [
    "from sklearn.ensemble import AdaBoostClassifier"
   ]
  },
  {
   "cell_type": "code",
   "execution_count": 35,
   "id": "f5b80996",
   "metadata": {},
   "outputs": [
    {
     "name": "stdout",
     "output_type": "stream",
     "text": [
      "              precision    recall  f1-score   support\n",
      "\n",
      "           0       0.87      0.99      0.92     85308\n",
      "           1       0.98      0.85      0.91     85308\n",
      "\n",
      "    accuracy                           0.92    170616\n",
      "   macro avg       0.93      0.92      0.92    170616\n",
      "weighted avg       0.93      0.92      0.92    170616\n",
      "\n",
      "[[84102  1206]\n",
      " [12637 72671]]\n"
     ]
    }
   ],
   "source": [
    "ada = AdaBoostClassifier(n_estimators=50,random_state=1)\n",
    "\n",
    "ada = create_modele(ada)"
   ]
  },
  {
   "cell_type": "markdown",
   "id": "83915f47",
   "metadata": {},
   "source": [
    "<b><span style=font-size:25px><font color='Red'>------------------------------------------------------------------------------------</font></span></b>"
   ]
  },
  {
   "cell_type": "markdown",
   "id": "45d6e6a1",
   "metadata": {},
   "source": [
    "<b><span style=font-size:20px>7. <font color='OrangeRed'>Gradient Boosting</font></span></b>"
   ]
  },
  {
   "cell_type": "code",
   "execution_count": 36,
   "id": "d68b272f",
   "metadata": {},
   "outputs": [],
   "source": [
    "from sklearn.ensemble import GradientBoostingClassifier"
   ]
  },
  {
   "cell_type": "code",
   "execution_count": 37,
   "id": "b3608e91",
   "metadata": {},
   "outputs": [
    {
     "name": "stdout",
     "output_type": "stream",
     "text": [
      "              precision    recall  f1-score   support\n",
      "\n",
      "           0       0.89      0.99      0.94     85308\n",
      "           1       0.99      0.87      0.93     85308\n",
      "\n",
      "    accuracy                           0.93    170616\n",
      "   macro avg       0.94      0.93      0.93    170616\n",
      "weighted avg       0.94      0.93      0.93    170616\n",
      "\n",
      "[[84581   727]\n",
      " [10700 74608]]\n"
     ]
    }
   ],
   "source": [
    "gbc = GradientBoostingClassifier(n_estimators=50,random_state=1)\n",
    "\n",
    "gbc = create_modele(gbc)"
   ]
  },
  {
   "cell_type": "markdown",
   "id": "9a0e6293",
   "metadata": {},
   "source": [
    "<b><span style=font-size:25px><font color='Red'>------------------------------------------------------------------------------------</font></span></b>"
   ]
  },
  {
   "cell_type": "markdown",
   "id": "5e34ce9b",
   "metadata": {},
   "source": [
    "<b><span style=font-size:20px>8. <font color='OrangeRed'>Xetreme Gradient Boost</font></span></b>"
   ]
  },
  {
   "cell_type": "code",
   "execution_count": 38,
   "id": "9524b0d4",
   "metadata": {},
   "outputs": [],
   "source": [
    "from xgboost import XGBClassifier"
   ]
  },
  {
   "cell_type": "code",
   "execution_count": 39,
   "id": "7ef3493f",
   "metadata": {
    "scrolled": false
   },
   "outputs": [
    {
     "name": "stdout",
     "output_type": "stream",
     "text": [
      "[10:02:54] WARNING: C:/Users/Administrator/workspace/xgboost-win64_release_1.5.1/src/learner.cc:1115: Starting in XGBoost 1.3.0, the default evaluation metric used with the objective 'binary:logistic' was changed from 'error' to 'logloss'. Explicitly set eval_metric if you'd like to restore the old behavior.\n",
      "              precision    recall  f1-score   support\n",
      "\n",
      "           0       0.83      1.00      0.91     85308\n",
      "           1       1.00      0.80      0.89     85308\n",
      "\n",
      "    accuracy                           0.90    170616\n",
      "   macro avg       0.92      0.90      0.90    170616\n",
      "weighted avg       0.92      0.90      0.90    170616\n",
      "\n",
      "[[85290    18]\n",
      " [17134 68174]]\n"
     ]
    }
   ],
   "source": [
    "xgc = XGBClassifier(n_estimators=50,reg_alpha=1,random_state=1)\n",
    "\n",
    "xgc = create_modele(xgc)"
   ]
  },
  {
   "cell_type": "markdown",
   "id": "7b00950c",
   "metadata": {},
   "source": [
    "<b><span style=font-size:25px><font color='Red'>------------------------------------------------------------------------------------</font></span></b>"
   ]
  },
  {
   "cell_type": "markdown",
   "id": "bd899ec8",
   "metadata": {},
   "source": [
    "<b><span style=font-size:20px>- <font color='MediumBlue'>Using Support Vector Machine ( SVM )</font></span></b>"
   ]
  },
  {
   "cell_type": "markdown",
   "id": "4f5b5169",
   "metadata": {},
   "source": [
    "<b><span style=font-size:20px>9. <font color='OrangeRed'>Linear SVC</font></span></b>"
   ]
  },
  {
   "cell_type": "code",
   "execution_count": 40,
   "id": "2ad7b2f6",
   "metadata": {},
   "outputs": [
    {
     "name": "stdout",
     "output_type": "stream",
     "text": [
      "              precision    recall  f1-score   support\n",
      "\n",
      "           0       0.89      0.98      0.94     85308\n",
      "           1       0.98      0.88      0.93     85308\n",
      "\n",
      "    accuracy                           0.93    170616\n",
      "   macro avg       0.94      0.93      0.93    170616\n",
      "weighted avg       0.94      0.93      0.93    170616\n",
      "\n",
      "[[83865  1443]\n",
      " [10100 75208]]\n"
     ]
    }
   ],
   "source": [
    "from sklearn.svm import LinearSVC\n",
    "\n",
    "svc = LinearSVC(random_state=1)\n",
    "svc = create_modele(svc)"
   ]
  },
  {
   "cell_type": "code",
   "execution_count": 41,
   "id": "a53f4936",
   "metadata": {
    "scrolled": true
   },
   "outputs": [
    {
     "name": "stdout",
     "output_type": "stream",
     "text": [
      "              precision    recall  f1-score   support\n",
      "\n",
      "           0       0.90      0.98      0.94     85308\n",
      "           1       0.98      0.90      0.94     85308\n",
      "\n",
      "    accuracy                           0.94    170616\n",
      "   macro avg       0.94      0.94      0.94    170616\n",
      "weighted avg       0.94      0.94      0.94    170616\n",
      "\n",
      "[[83834  1474]\n",
      " [ 8874 76434]]\n"
     ]
    }
   ],
   "source": [
    "svc1 = LinearSVC(random_state=1,C=0.99)\n",
    "\n",
    "svc1 = create_modele(svc1)"
   ]
  },
  {
   "cell_type": "markdown",
   "id": "af5ac9fb",
   "metadata": {},
   "source": [
    "<b><span style=font-size:25px><font color='Red'>------------------------------------------------------------------------------------</font></span></b>"
   ]
  },
  {
   "cell_type": "markdown",
   "id": "79e6f676",
   "metadata": {},
   "source": [
    "<b><span style=font-size:20px>10. <font color='OrangeRed'>SVC Polynomial Kernel Function</font></span></b>"
   ]
  },
  {
   "cell_type": "code",
   "execution_count": 42,
   "id": "33976ef1",
   "metadata": {
    "scrolled": true
   },
   "outputs": [
    {
     "name": "stdout",
     "output_type": "stream",
     "text": [
      "              precision    recall  f1-score   support\n",
      "\n",
      "           0       0.86      1.00      0.92     85308\n",
      "           1       1.00      0.84      0.91     85308\n",
      "\n",
      "    accuracy                           0.92    170616\n",
      "   macro avg       0.93      0.92      0.92    170616\n",
      "weighted avg       0.93      0.92      0.92    170616\n",
      "\n",
      "[[85082   226]\n",
      " [13871 71437]]\n"
     ]
    }
   ],
   "source": [
    "from sklearn.svm import SVC\n",
    "\n",
    "svc1 = SVC(random_state=1,kernel='poly')\n",
    "svc1 = create_modele(svc1)"
   ]
  },
  {
   "cell_type": "markdown",
   "id": "8ee3a96b",
   "metadata": {},
   "source": [
    "<b><span style=font-size:25px><font color='Red'>------------------------------------------------------------------------------------</font></span></b>"
   ]
  },
  {
   "cell_type": "markdown",
   "id": "fa1dc182",
   "metadata": {},
   "source": [
    "<b><span style=font-size:20px>11. <font color='OrangeRed'>SVC Radial Basis Kernel Function</font></span></b>"
   ]
  },
  {
   "cell_type": "code",
   "execution_count": 43,
   "id": "eb3a8373",
   "metadata": {
    "scrolled": true
   },
   "outputs": [
    {
     "name": "stdout",
     "output_type": "stream",
     "text": [
      "              precision    recall  f1-score   support\n",
      "\n",
      "           0       0.84      0.99      0.91     85308\n",
      "           1       0.99      0.81      0.89     85308\n",
      "\n",
      "    accuracy                           0.90    170616\n",
      "   macro avg       0.92      0.90      0.90    170616\n",
      "weighted avg       0.92      0.90      0.90    170616\n",
      "\n",
      "[[84567   741]\n",
      " [15791 69517]]\n"
     ]
    }
   ],
   "source": [
    "svc2 = SVC(random_state=1,kernel='rbf')\n",
    "\n",
    "svc2 = create_modele(svc2)"
   ]
  },
  {
   "cell_type": "markdown",
   "id": "b37158e9",
   "metadata": {},
   "source": [
    "<b><span style=font-size:25px><font color='Red'>------------------------------------------------------------------------------------</font></span></b>"
   ]
  },
  {
   "cell_type": "markdown",
   "id": "a72c5c25",
   "metadata": {},
   "source": [
    "<b><span style=font-size:20px>12. <font color='OrangeRed'>KNeighborsClassifier</font></span></b>"
   ]
  },
  {
   "cell_type": "code",
   "execution_count": 44,
   "id": "05935d31",
   "metadata": {},
   "outputs": [],
   "source": [
    "from sklearn.neighbors import KNeighborsClassifier"
   ]
  },
  {
   "cell_type": "code",
   "execution_count": 45,
   "id": "e122e03c",
   "metadata": {
    "scrolled": false
   },
   "outputs": [
    {
     "name": "stdout",
     "output_type": "stream",
     "text": [
      "              precision    recall  f1-score   support\n",
      "\n",
      "           0       0.82      1.00      0.90     85308\n",
      "           1       1.00      0.78      0.87     85308\n",
      "\n",
      "    accuracy                           0.89    170616\n",
      "   macro avg       0.91      0.89      0.89    170616\n",
      "weighted avg       0.91      0.89      0.89    170616\n",
      "\n",
      "[[85247    61]\n",
      " [19106 66202]]\n"
     ]
    }
   ],
   "source": [
    "knc = KNeighborsClassifier(n_neighbors=5,metric='minkowski',p=2)\n",
    "\n",
    "knc = create_modele(knc)"
   ]
  },
  {
   "cell_type": "markdown",
   "id": "d0eaabc2",
   "metadata": {},
   "source": [
    "<b><span style=font-size:25px><font color='Red'>------------------------------------------------------------------------------------</font></span></b>"
   ]
  },
  {
   "cell_type": "markdown",
   "id": "56f79e0b",
   "metadata": {},
   "source": [
    "<b><span style=font-size:30px>- <font color='LimeGreen'>Conclusion.</font></span></b>\n",
    "- We have used 17 different methods mentiond from above table with different methods with their percentage.\n",
    "\n",
    "\n",
    "- The <b>Best result</b> we got is in <b>Linear Support Vector Machine i.e. 89%.</b> But we can try to get higher percentage.\n",
    "\n",
    "\n",
    "- So we will <b>add errors at Training time</b> to check if we get <b>more results.<b>\n",
    "\n",
    "    \n",
    "- <b>After adding errors at Training time we got 90% on Linear Support Vector Machine.</b>"
   ]
  },
  {
   "cell_type": "markdown",
   "id": "cd23468c",
   "metadata": {},
   "source": [
    "|<span style=font-size:20px>Machine Learning Methods</span>|<span style=font-size:20px>Results</span>|\n",
    "|:-|:-|\n",
    "|<span style=font-size:15px>1. Logistic Regression</span>|<span style=font-size:15px>0-98%<br>1-90%</span>|\n",
    "|<span style=font-size:15px>2. Decision Tree Classifier (Gini Index)</span>|<span style=font-size:15px>0-100%<br>1-65%</span>|\n",
    "|<span style=font-size:15px>2a. DTC (Gini Index) max_depth</span>|<span style=font-size:15px>0-98%<br>1-85%</span>|\n",
    "|<span style=font-size:15px>2b. DTC (Gini Index) max_sample_leaf</span>|<span style=font-size:15px>0-100%<br>1-83%</span>|\n",
    "|<span style=font-size:15px>3. Decision Tree Classifier (Entropy)</span>|<span style=font-size:15px>0-100%<br>1-70%</span>|\n",
    "|<span style=font-size:15px>3a. DTC (Entropy) max_depth</span>|<span style=font-size:15px>0-97%<br>1-85%</span>|\n",
    "|<span style=font-size:15px>3b. DTC (Entropy) min_sample_leaf</span>|<span style=font-size:15px>0-100%<br>1-80%</span>|\n",
    "|<span style=font-size:15px>4. Random Forest Classifier (Gini Index)</span>|<span style=font-size:15px>0-100%<br>1-78%</span>|\n",
    "|<span style=font-size:15px>5. Random Forest Classifier (Entropy)</span>|<span style=font-size:15px>0-100%<br>1-77%</span>|\n",
    "|<span style=font-size:15px>6. ADA Boosting (Adaptor Boosting)</span>|<span style=font-size:15px>0-99%<br>1-85%</span>|\n",
    "|<span style=font-size:15px>7. Gradient Boosting</span>|<span style=font-size:15px>0-99%<br>1-87%</span>|\n",
    "|<span style=font-size:15px>8. Xetreme Gradient Boost</span>|<span style=font-size:15px>0-100%<br>1-80%</span>|\n",
    "|<span style=font-size:15px>9. Linear SVC</span>|<span style=font-size:15px>0-98%<br>1-88%</span>|\n",
    "|<span style=font-size:15px><code style=\"background:yellow;color:black\"><b>9a. Linear SVC (Adding Errors)</b></code></span>|<span style=font-size:15px><code style=\"background:yellow;color:black\"><b>0-98%</b></code><br><code style=\"background:yellow;color:black\"><b>1-90%</b></code></span>|\n",
    "|<span style=font-size:15px>10. SVC Polynomial Kernel Function</span>|<span style=font-size:15px>0-100%<br>1-84%</span>|\n",
    "|<span style=font-size:15px>11. SVC Radial Basis Kernel Function</span>|<span style=font-size:15px>0-99%<br>1-81%</span>|\n",
    "|<span style=font-size:15px>12. KNeighborsClassifier</span>|<span style=font-size:15px>0-100%<br>1-78%</span>|"
   ]
  },
  {
   "cell_type": "markdown",
   "id": "c412d98e",
   "metadata": {},
   "source": [
    "<b><span style=font-size:25px><font color='Red'>------------------------------------------------------------------------------------</font></span></b>"
   ]
  }
 ],
 "metadata": {
  "kernelspec": {
   "display_name": "Python 3 (ipykernel)",
   "language": "python",
   "name": "python3"
  },
  "language_info": {
   "codemirror_mode": {
    "name": "ipython",
    "version": 3
   },
   "file_extension": ".py",
   "mimetype": "text/x-python",
   "name": "python",
   "nbconvert_exporter": "python",
   "pygments_lexer": "ipython3",
   "version": "3.9.7"
  }
 },
 "nbformat": 4,
 "nbformat_minor": 5
}
